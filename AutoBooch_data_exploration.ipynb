{
 "cells": [
  {
   "cell_type": "markdown",
   "metadata": {},
   "source": [
    "# Exploration of performance data of AutoBooch kombucha brewing system "
   ]
  },
  {
   "cell_type": "code",
   "execution_count": 1,
   "metadata": {
    "collapsed": true
   },
   "outputs": [],
   "source": [
    "import time\n",
    "import pandas as pd\n",
    "import matplotlib.pyplot as plt"
   ]
  },
  {
   "cell_type": "markdown",
   "metadata": {},
   "source": [
    "Import data from the log file:"
   ]
  },
  {
   "cell_type": "code",
   "execution_count": 2,
   "metadata": {
    "collapsed": false
   },
   "outputs": [],
   "source": [
    "boochData = pd.read_csv(\"brew_log.txt\", sep=\" \", header=0)"
   ]
  },
  {
   "cell_type": "markdown",
   "metadata": {},
   "source": [
    "Make sure it's OK (well, enough for jazz):"
   ]
  },
  {
   "cell_type": "code",
   "execution_count": 3,
   "metadata": {
    "collapsed": false
   },
   "outputs": [
    {
     "data": {
      "text/html": [
       "<div>\n",
       "<table border=\"1\" class=\"dataframe\">\n",
       "  <thead>\n",
       "    <tr style=\"text-align: right;\">\n",
       "      <th></th>\n",
       "      <th>time</th>\n",
       "      <th>temp</th>\n",
       "      <th>state</th>\n",
       "    </tr>\n",
       "  </thead>\n",
       "  <tbody>\n",
       "    <tr>\n",
       "      <th>0</th>\n",
       "      <td>1.521122e+09</td>\n",
       "      <td>24.312</td>\n",
       "      <td>OFF</td>\n",
       "    </tr>\n",
       "    <tr>\n",
       "      <th>1</th>\n",
       "      <td>1.521124e+09</td>\n",
       "      <td>24.250</td>\n",
       "      <td>OFF</td>\n",
       "    </tr>\n",
       "    <tr>\n",
       "      <th>2</th>\n",
       "      <td>1.521126e+09</td>\n",
       "      <td>24.437</td>\n",
       "      <td>OFF</td>\n",
       "    </tr>\n",
       "    <tr>\n",
       "      <th>3</th>\n",
       "      <td>1.521128e+09</td>\n",
       "      <td>24.562</td>\n",
       "      <td>OFF</td>\n",
       "    </tr>\n",
       "    <tr>\n",
       "      <th>4</th>\n",
       "      <td>1.521130e+09</td>\n",
       "      <td>24.500</td>\n",
       "      <td>OFF</td>\n",
       "    </tr>\n",
       "  </tbody>\n",
       "</table>\n",
       "</div>"
      ],
      "text/plain": [
       "           time    temp state\n",
       "0  1.521122e+09  24.312   OFF\n",
       "1  1.521124e+09  24.250   OFF\n",
       "2  1.521126e+09  24.437   OFF\n",
       "3  1.521128e+09  24.562   OFF\n",
       "4  1.521130e+09  24.500   OFF"
      ]
     },
     "execution_count": 3,
     "metadata": {},
     "output_type": "execute_result"
    }
   ],
   "source": [
    "boochData.head()"
   ]
  },
  {
   "cell_type": "markdown",
   "metadata": {
    "collapsed": false
   },
   "source": [
    "Are there outliers? (of course there are)"
   ]
  },
  {
   "cell_type": "code",
   "execution_count": 4,
   "metadata": {
    "collapsed": false
   },
   "outputs": [
    {
     "data": {
      "text/plain": [
       "time     1.52301e+09\n",
       "temp              85\n",
       "state             ON\n",
       "dtype: object"
      ]
     },
     "execution_count": 4,
     "metadata": {},
     "output_type": "execute_result"
    }
   ],
   "source": [
    "boochData.max()"
   ]
  },
  {
   "cell_type": "code",
   "execution_count": 5,
   "metadata": {
    "collapsed": false
   },
   "outputs": [
    {
     "data": {
      "text/plain": [
       "time     1.52112e+09\n",
       "temp          17.437\n",
       "state            OFF\n",
       "dtype: object"
      ]
     },
     "execution_count": 5,
     "metadata": {},
     "output_type": "execute_result"
    }
   ],
   "source": [
    "boochData.min()"
   ]
  },
  {
   "cell_type": "markdown",
   "metadata": {},
   "source": [
    "Let's have a quick look at the data (and set the axes and fonts):"
   ]
  },
  {
   "cell_type": "code",
   "execution_count": 13,
   "metadata": {
    "collapsed": false,
    "scrolled": true
   },
   "outputs": [
    {
     "data": {
      "image/png": "[encoded data removed]",
      "text/plain": [
       "<Figure size 432x288 with 1 Axes>"
      ]
     },
     "metadata": {},
     "output_type": "display_data"
    }
   ],
   "source": [
    "plt.rcParams[\"font.family\"] = \"serif\"\n",
    "plt.plot(boochData[\"time\"], boochData[\"temp\"],'.k')\n",
    "plt.title(r'Temperature over time for AutoBooch brewing system')\n",
    "plt.xlabel(\"Time\", fontsize=16)\n",
    "plt.ylabel(r'Temperature ($^{\\circ}$C)', fontsize=16)\n",
    "plt.show()"
   ]
  },
  {
   "cell_type": "markdown",
   "metadata": {},
   "source": [
    "So we can see how far the outliers are out. \n",
    "\n",
    "The lonesome, very high, temperature (85°C) must have been from me leaving the sensor in the sun while changing a batch. Similarly, the low temperatures (down to 17°C) would have been where I left it exposed to the cool air for an hour or so. \n",
    "\n",
    "Also note the strange time axis—the default for the time modules is 'seconds since Unix epoch (January 1, 1970)'!\n",
    "\n",
    "We're concerned here with the operating performance, so we can safely filter the outliers. Let's also look at how much time the data spans:"
   ]
  },
  {
   "cell_type": "code",
   "execution_count": 87,
   "metadata": {
    "collapsed": false
   },
   "outputs": [
    {
     "data": {
      "text/plain": [
       "'Thu Mar 15 09:00:02 2018'"
      ]
     },
     "execution_count": 87,
     "metadata": {},
     "output_type": "execute_result"
    }
   ],
   "source": [
    "time.ctime(boochData[\"time\"].min())"
   ]
  },
  {
   "cell_type": "code",
   "execution_count": 88,
   "metadata": {
    "collapsed": false
   },
   "outputs": [
    {
     "data": {
      "text/plain": [
       "'Fri Apr  6 05:00:02 2018'"
      ]
     },
     "execution_count": 88,
     "metadata": {},
     "output_type": "execute_result"
    }
   ],
   "source": [
    "time.ctime(boochData[\"time\"].max())"
   ]
  },
  {
   "cell_type": "markdown",
   "metadata": {},
   "source": [
    "So the data was only taken for three weeks, in early Spring (Northern Hemisphere). So we don't need to account for seasonal variation. Let's just look at the daily variation:"
   ]
  },
  {
   "cell_type": "markdown",
   "metadata": {},
   "source": [
    "Define a function to get the hour of the day. This uses the funny syntax from the time module."
   ]
  },
  {
   "cell_type": "code",
   "execution_count": 7,
   "metadata": {
    "collapsed": true
   },
   "outputs": [],
   "source": [
    "def t2hours(t):\n",
    "    \"\"\"Return the hour of the day from a time.time structure. Also convert from UTC to my time-zone (US Central, UTC-5)\"\"\"\n",
    "    return (float(time.gmtime(t).tm_hour) + float(time.gmtime(t).tm_min)/60.0 - 5.0) % 24"
   ]
  },
  {
   "cell_type": "code",
   "execution_count": 8,
   "metadata": {
    "collapsed": false
   },
   "outputs": [],
   "source": [
    "boochData['hours'] = boochData.apply(lambda row: t2hours(row[\"time\"]), axis=1)"
   ]
  },
  {
   "cell_type": "markdown",
   "metadata": {},
   "source": [
    "All right, we're ready for a closer look, doc!"
   ]
  },
  {
   "cell_type": "code",
   "execution_count": 9,
   "metadata": {
    "collapsed": false
   },
   "outputs": [
    {
     "data": {
      "image/png": "[encoded data removed]",
      "text/plain": [
       "<Figure size 432x288 with 1 Axes>"
      ]
     },
     "metadata": {},
     "output_type": "display_data"
    }
   ],
   "source": [
    "plt.plot(boochData[\"hours\"], boochData[\"temp\"],'.k')\n",
    "plt.title(r'Temperature over time for AutoBooch brewing system')                                                                                                                        \n",
    "plt.xlabel(\"Hour of day\", fontsize=16)                                                                                                                                                         \n",
    "plt.ylabel(r'Temperature ($^{\\circ}$C)', fontsize=16)\n",
    "plt.ylim( 22, 28 )\n",
    "plt.xlim( 0, 24 )\n",
    "plt.show()"
   ]
  },
  {
   "cell_type": "markdown",
   "metadata": {},
   "source": [
    "Note that there are many points for each time of day, but they each have a similar spread (it's almost like we constrained the range ;) ). We're interested in the general performance trend. We'll need to make a tool for that:"
   ]
  },
  {
   "cell_type": "code",
   "execution_count": 10,
   "metadata": {
    "collapsed": true
   },
   "outputs": [],
   "source": [
    "import numpy as np\n",
    "def rngAvg(x, y):\n",
    "    return np.average(y[(y[\"hours\"]==x)][\"temp\"])"
   ]
  },
  {
   "cell_type": "code",
   "execution_count": 11,
   "metadata": {
    "collapsed": false
   },
   "outputs": [],
   "source": [
    "t = np.arange(0, 24, 0.5, dtype=\"float\")\n",
    "y = [rngAvg(x,boochData[(boochData[\"temp\"]<30) & (boochData[\"temp\"]>22)]) for x in t]"
   ]
  },
  {
   "cell_type": "code",
   "execution_count": 12,
   "metadata": {
    "collapsed": false,
    "scrolled": true
   },
   "outputs": [
    {
     "data": {
      "image/png": "[encoded data removed]",
      "text/plain": [
       "<Figure size 432x288 with 1 Axes>"
      ]
     },
     "metadata": {},
     "output_type": "display_data"
    }
   ],
   "source": [
    "plt.plot(boochData[\"hours\"], boochData[\"temp\"],'.k',label=\"raw data\")\n",
    "plt.plot(t,y,'-r',linewidth=3,alpha=0.8,label=\"mean value\")\n",
    "plt.title(r'Daily temperature variation for AutoBooch brewing system')                                                                                                                        \n",
    "plt.xlabel(\"Hour of day (24h clock)\", fontsize=16)                                                                                                                                                         \n",
    "plt.ylabel(r'Temperature ($^{\\circ}$C)', fontsize=16)\n",
    "plt.ylim( 22, 28 )\n",
    "plt.xlim( 0, 24 )\n",
    "plt.legend()\n",
    "plt.show()"
   ]
  },
  {
   "cell_type": "markdown",
   "metadata": {},
   "source": [
    "So you can see the temperature tends to peak around 2pm and is a minimum during the night. Note that this data set is for a little less than a month (right before Spring), so seasonal trends aren't as important as daily ones."
   ]
  },
  {
   "cell_type": "markdown",
   "metadata": {},
   "source": [
    "## Conclusion\n",
    "The AutoBooch is performing as planned! Mean temperatures are within the defined operating range."
   ]
  },
  {
   "cell_type": "code",
   "execution_count": null,
   "metadata": {
    "collapsed": true
   },
   "outputs": [],
   "source": []
  }
 ],
 "metadata": {
  "kernelspec": {
   "display_name": "Python 2",
   "language": "python",
   "name": "python2"
  },
  "language_info": {
   "codemirror_mode": {
    "name": "ipython",
    "version": 2
   },
   "file_extension": ".py",
   "mimetype": "text/x-python",
   "name": "python",
   "nbconvert_exporter": "python",
   "pygments_lexer": "ipython2",
   "version": "2.7.9"
  }
 },
 "nbformat": 4,
 "nbformat_minor": 2
}
